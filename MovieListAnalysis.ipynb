{
 "cells": [
  {
   "cell_type": "code",
   "execution_count": 1,
   "metadata": {
    "collapsed": true
   },
   "outputs": [],
   "source": [
    "import graphlab"
   ]
  },
  {
   "cell_type": "code",
   "execution_count": 2,
   "metadata": {
    "collapsed": false
   },
   "outputs": [
    {
     "name": "stderr",
     "output_type": "stream",
     "text": [
      "2016-03-31 22:09:42,085 [INFO] graphlab.cython.cy_server, 176: GraphLab Create v1.8.4 started. Logging: /tmp/graphlab_server_1459442381.log\n"
     ]
    },
    {
     "data": {
      "text/html": [
       "<pre>Unable to parse line \"Camera Three (1955) {The Eagle, the Tiger and the Fly (#4.46)} \"</pre>"
      ],
      "text/plain": [
       "Unable to parse line \"Camera Three (1955) {The Eagle, the Tiger and the Fly (#4.46)} \""
      ]
     },
     "metadata": {},
     "output_type": "display_data"
    },
    {
     "data": {
      "text/html": [
       "<pre>Unable to parse line \"Bay City Blues (1983) {Going, Going, Gone (#1.5)} \"</pre>"
      ],
      "text/plain": [
       "Unable to parse line \"Bay City Blues (1983) {Going, Going, Gone (#1.5)} \""
      ]
     },
     "metadata": {},
     "output_type": "display_data"
    },
    {
     "data": {
      "text/html": [
       "<pre>Unable to parse line \"Bloopers, Outtakes, and Stuff (2013) \"</pre>"
      ],
      "text/plain": [
       "Unable to parse line \"Bloopers, Outtakes, and Stuff (2013) \""
      ]
     },
     "metadata": {},
     "output_type": "display_data"
    },
    {
     "data": {
      "text/html": [
       "<pre>Unable to parse line \"Bloopers, Outtakes, and Stuff (2013) {Bieber Fever (#1.1)} \"</pre>"
      ],
      "text/plain": [
       "Unable to parse line \"Bloopers, Outtakes, and Stuff (2013) {Bieber Fever (#1.1)} \""
      ]
     },
     "metadata": {},
     "output_type": "display_data"
    },
    {
     "data": {
      "text/html": [
       "<pre>Unable to parse line \"Bloopers, Outtakes, and Stuff (2013) {Butterfly (#2.1)} \"</pre>"
      ],
      "text/plain": [
       "Unable to parse line \"Bloopers, Outtakes, and Stuff (2013) {Butterfly (#2.1)} \""
      ]
     },
     "metadata": {},
     "output_type": "display_data"
    },
    {
     "data": {
      "text/html": [
       "<pre>Unable to parse line \"Amber in the Shadows (2013) {Anniversaries, Swap Meets and Parents, Oh My! (#1.78)} \"</pre>"
      ],
      "text/plain": [
       "Unable to parse line \"Amber in the Shadows (2013) {Anniversaries, Swap Meets and Parents, Oh My! (#1.78)} \""
      ]
     },
     "metadata": {},
     "output_type": "display_data"
    },
    {
     "data": {
      "text/html": [
       "<pre>Unable to parse line \"ARK, the Adventures of Animal Rescue Kids (1997) \"</pre>"
      ],
      "text/plain": [
       "Unable to parse line \"ARK, the Adventures of Animal Rescue Kids (1997) \""
      ]
     },
     "metadata": {},
     "output_type": "display_data"
    },
    {
     "data": {
      "text/html": [
       "<pre>Unable to parse line \"Bloopers, Outtakes, and Stuff (2013) {Shots (#1.5)} \"</pre>"
      ],
      "text/plain": [
       "Unable to parse line \"Bloopers, Outtakes, and Stuff (2013) {Shots (#1.5)} \""
      ]
     },
     "metadata": {},
     "output_type": "display_data"
    },
    {
     "data": {
      "text/html": [
       "<pre>Unable to parse line \"Bay City Blues (1983) {Look Homeward, Hayward (#1.6)} \"</pre>"
      ],
      "text/plain": [
       "Unable to parse line \"Bay City Blues (1983) {Look Homeward, Hayward (#1.6)} \""
      ]
     },
     "metadata": {},
     "output_type": "display_data"
    },
    {
     "data": {
      "text/html": [
       "<pre>Unable to parse line \"Bloopers, Outtakes, and Stuff (2013) {The Screenwriter Part I (#2.3)} \"</pre>"
      ],
      "text/plain": [
       "Unable to parse line \"Bloopers, Outtakes, and Stuff (2013) {The Screenwriter Part I (#2.3)} \""
      ]
     },
     "metadata": {},
     "output_type": "display_data"
    },
    {
     "data": {
      "text/html": [
       "<pre>Unable to parse line \"ARK, the Adventures of Animal Rescue Kids (1997) {A Dogs Life (#2.1)} \"</pre>"
      ],
      "text/plain": [
       "Unable to parse line \"ARK, the Adventures of Animal Rescue Kids (1997) {A Dogs Life (#2.1)} \""
      ]
     },
     "metadata": {},
     "output_type": "display_data"
    },
    {
     "data": {
      "text/html": [
       "<pre>Unable to parse line \"Bay City Blues (1983) {Play It Again, Milt (#1.8)} \"</pre>"
      ],
      "text/plain": [
       "Unable to parse line \"Bay City Blues (1983) {Play It Again, Milt (#1.8)} \""
      ]
     },
     "metadata": {},
     "output_type": "display_data"
    },
    {
     "data": {
      "text/html": [
       "<pre>46756 lines failed to parse correctly</pre>"
      ],
      "text/plain": [
       "46756 lines failed to parse correctly"
      ]
     },
     "metadata": {},
     "output_type": "display_data"
    },
    {
     "data": {
      "text/html": [
       "<pre>Finished parsing file /home/himi/Names_Movie_list.csv</pre>"
      ],
      "text/plain": [
       "Finished parsing file /home/himi/Names_Movie_list.csv"
      ]
     },
     "metadata": {},
     "output_type": "display_data"
    },
    {
     "data": {
      "text/html": [
       "<pre>Parsing completed. Parsed 100 lines in 0.50548 secs.</pre>"
      ],
      "text/plain": [
       "Parsing completed. Parsed 100 lines in 0.50548 secs."
      ]
     },
     "metadata": {},
     "output_type": "display_data"
    },
    {
     "name": "stdout",
     "output_type": "stream",
     "text": [
      "This non-commercial license of GraphLab Create is assigned to himadri.mishra.cse13@iitbhu.ac.in and will expire on February 04, 2017. For commercial licensing options, visit https://dato.com/buy/.\n",
      "------------------------------------------------------"
     ]
    },
    {
     "data": {
      "text/html": [
       "<pre>Unable to parse line \"Bloopers, Outtakes, and Stuff (2013) \"</pre>"
      ],
      "text/plain": [
       "Unable to parse line \"Bloopers, Outtakes, and Stuff (2013) \""
      ]
     },
     "metadata": {},
     "output_type": "display_data"
    },
    {
     "data": {
      "text/html": [
       "<pre>Unable to parse line \"Amber in the Shadows (2013) {Anniversaries, Swap Meets and Parents, Oh My! (#1.78)} \"</pre>"
      ],
      "text/plain": [
       "Unable to parse line \"Amber in the Shadows (2013) {Anniversaries, Swap Meets and Parents, Oh My! (#1.78)} \""
      ]
     },
     "metadata": {},
     "output_type": "display_data"
    },
    {
     "data": {
      "text/html": [
       "<pre>Unable to parse line \"Bloopers, Outtakes, and Stuff (2013) {Bieber Fever (#1.1)} \"</pre>"
      ],
      "text/plain": [
       "Unable to parse line \"Bloopers, Outtakes, and Stuff (2013) {Bieber Fever (#1.1)} \""
      ]
     },
     "metadata": {},
     "output_type": "display_data"
    },
    {
     "data": {
      "text/html": [
       "<pre>Unable to parse line \"Dogs 101 (2008) {Australian Cattle Dog, Saluki, Norwich Terrier, Boykin Spaniel, Wonder Dog (#3.3)} \"</pre>"
      ],
      "text/plain": [
       "Unable to parse line \"Dogs 101 (2008) {Australian Cattle Dog, Saluki, Norwich Terrier, Boykin Spaniel, Wonder Dog (#3.3)} \""
      ]
     },
     "metadata": {},
     "output_type": "display_data"
    },
    {
     "data": {
      "text/html": [
       "<pre>Unable to parse line \"Camera Three (1955) {The Eagle, the Tiger and the Fly (#4.46)} \"</pre>"
      ],
      "text/plain": [
       "Unable to parse line \"Camera Three (1955) {The Eagle, the Tiger and the Fly (#4.46)} \""
      ]
     },
     "metadata": {},
     "output_type": "display_data"
    },
    {
     "data": {
      "text/html": [
       "<pre>Unable to parse line \"Ek Nayi Ummeed: Roshni (2015) {Roshni, Nik and Nitin Clear MRCS (#1.6)} \"</pre>"
      ],
      "text/plain": [
       "Unable to parse line \"Ek Nayi Ummeed: Roshni (2015) {Roshni, Nik and Nitin Clear MRCS (#1.6)} \""
      ]
     },
     "metadata": {},
     "output_type": "display_data"
    },
    {
     "data": {
      "text/html": [
       "<pre>Unable to parse line \"Bloopers, Outtakes, and Stuff (2013) {Butterfly (#2.1)} \"</pre>"
      ],
      "text/plain": [
       "Unable to parse line \"Bloopers, Outtakes, and Stuff (2013) {Butterfly (#2.1)} \""
      ]
     },
     "metadata": {},
     "output_type": "display_data"
    },
    {
     "data": {
      "text/html": [
       "<pre>Unable to parse line \"Dogs 101 (2008) {Basenji, Bullmastiff, Shetland Sheepdog, Coton de Tulear, Wonder Dogs, Grea (#3.2)} \"</pre>"
      ],
      "text/plain": [
       "Unable to parse line \"Dogs 101 (2008) {Basenji, Bullmastiff, Shetland Sheepdog, Coton de Tulear, Wonder Dogs, Grea (#3.2)} \""
      ]
     },
     "metadata": {},
     "output_type": "display_data"
    },
    {
     "data": {
      "text/html": [
       "<pre>Unable to parse line \"Ekaant (2014) {Asirgarh, Madhya Pradesh (#2.6)} \"</pre>"
      ],
      "text/plain": [
       "Unable to parse line \"Ekaant (2014) {Asirgarh, Madhya Pradesh (#2.6)} \""
      ]
     },
     "metadata": {},
     "output_type": "display_data"
    },
    {
     "data": {
      "text/html": [
       "<pre>Unable to parse line \"Dogs 101 (2008) {Komondor, Irish Water Spaniel, Samoyed, Shiba Inu, Greyhound, Rat Terrier (#3.4)} \"</pre>"
      ],
      "text/plain": [
       "Unable to parse line \"Dogs 101 (2008) {Komondor, Irish Water Spaniel, Samoyed, Shiba Inu, Greyhound, Rat Terrier (#3.4)} \""
      ]
     },
     "metadata": {},
     "output_type": "display_data"
    },
    {
     "data": {
      "text/html": [
       "<pre>Unable to parse line \"Academia de baile Gloria (2001) {Ni esto, ni lo otro, sino todo lo contrario (#1.3)} \"</pre>"
      ],
      "text/plain": [
       "Unable to parse line \"Academia de baile Gloria (2001) {Ni esto, ni lo otro, sino todo lo contrario (#1.3)} \""
      ]
     },
     "metadata": {},
     "output_type": "display_data"
    },
    {
     "data": {
      "text/html": [
       "<pre>Unable to parse line \"Bloopers, Outtakes, and Stuff (2013) {Shots (#1.5)} \"</pre>"
      ],
      "text/plain": [
       "Unable to parse line \"Bloopers, Outtakes, and Stuff (2013) {Shots (#1.5)} \""
      ]
     },
     "metadata": {},
     "output_type": "display_data"
    },
    {
     "data": {
      "text/html": [
       "<pre>Unable to parse line \"Cameron Cat (2011) {Nine Lives, Youre Out! (#1.2)} \"</pre>"
      ],
      "text/plain": [
       "Unable to parse line \"Cameron Cat (2011) {Nine Lives, Youre Out! (#1.2)} \""
      ]
     },
     "metadata": {},
     "output_type": "display_data"
    },
    {
     "data": {
      "text/html": [
       "<pre>Unable to parse line \"Ekaant (2014) {Bijapur, Karnataka (#2.5)} \"</pre>"
      ],
      "text/plain": [
       "Unable to parse line \"Ekaant (2014) {Bijapur, Karnataka (#2.5)} \""
      ]
     },
     "metadata": {},
     "output_type": "display_data"
    },
    {
     "data": {
      "text/html": [
       "<pre>Unable to parse line \"Horizon (1964) {Fat Cats, Thin Mice (#33.13)} \"</pre>"
      ],
      "text/plain": [
       "Unable to parse line \"Horizon (1964) {Fat Cats, Thin Mice (#33.13)} \""
      ]
     },
     "metadata": {},
     "output_type": "display_data"
    },
    {
     "data": {
      "text/html": [
       "<pre>Unable to parse line \"Amber in the Shadows (2013) {Girlfriends, Fiances and Food, Oh My! (#1.22)} \"</pre>"
      ],
      "text/plain": [
       "Unable to parse line \"Amber in the Shadows (2013) {Girlfriends, Fiances and Food, Oh My! (#1.22)} \""
      ]
     },
     "metadata": {},
     "output_type": "display_data"
    },
    {
     "data": {
      "text/html": [
       "<pre>Unable to parse line \"ARK, the Adventures of Animal Rescue Kids (1997) \"</pre>"
      ],
      "text/plain": [
       "Unable to parse line \"ARK, the Adventures of Animal Rescue Kids (1997) \""
      ]
     },
     "metadata": {},
     "output_type": "display_data"
    },
    {
     "data": {
      "text/html": [
       "<pre>Unable to parse line \"Bay City Blues (1983) {Going, Going, Gone (#1.5)} \"</pre>"
      ],
      "text/plain": [
       "Unable to parse line \"Bay City Blues (1983) {Going, Going, Gone (#1.5)} \""
      ]
     },
     "metadata": {},
     "output_type": "display_data"
    },
    {
     "data": {
      "text/html": [
       "<pre>Read 1110598 lines. Lines per second: 1.69909e+06</pre>"
      ],
      "text/plain": [
       "Read 1110598 lines. Lines per second: 1.69909e+06"
      ]
     },
     "metadata": {},
     "output_type": "display_data"
    },
    {
     "data": {
      "text/html": [
       "<pre>135470 lines failed to parse correctly</pre>"
      ],
      "text/plain": [
       "135470 lines failed to parse correctly"
      ]
     },
     "metadata": {},
     "output_type": "display_data"
    },
    {
     "data": {
      "text/html": [
       "<pre>Finished parsing file /home/himi/Names_Movie_list.csv</pre>"
      ],
      "text/plain": [
       "Finished parsing file /home/himi/Names_Movie_list.csv"
      ]
     },
     "metadata": {},
     "output_type": "display_data"
    },
    {
     "data": {
      "text/html": [
       "<pre>Parsing completed. Parsed 3565029 lines in 1.22382 secs.</pre>"
      ],
      "text/plain": [
       "Parsing completed. Parsed 3565029 lines in 1.22382 secs."
      ]
     },
     "metadata": {},
     "output_type": "display_data"
    },
    {
     "name": "stdout",
     "output_type": "stream",
     "text": [
      "\n",
      "Inferred types from first line of file as \n",
      "column_type_hints=[str]\n",
      "If parsing fails due to incorrect types, you can correct\n",
      "the inferred type list above and pass it to read_csv in\n",
      "the column_type_hints argument\n",
      "------------------------------------------------------\n"
     ]
    }
   ],
   "source": [
    "sf = graphlab.SFrame.read_csv('Names_Movie_list.csv')"
   ]
  },
  {
   "cell_type": "code",
   "execution_count": 3,
   "metadata": {
    "collapsed": false
   },
   "outputs": [
    {
     "data": {
      "text/html": [
       "<div style=\"max-height:1000px;max-width:1500px;overflow:auto;\"><table frame=\"box\" rules=\"cols\">\n",
       "    <tr>\n",
       "        <th style=\"padding-left: 1em; padding-right: 1em; text-align: center\">name</th>\n",
       "    </tr>\n",
       "    <tr>\n",
       "        <td style=\"padding-left: 1em; padding-right: 1em; text-align: center; vertical-align: top\">!Next? (1994)</td>\n",
       "    </tr>\n",
       "    <tr>\n",
       "        <td style=\"padding-left: 1em; padding-right: 1em; text-align: center; vertical-align: top\">#1 Single (2006)</td>\n",
       "    </tr>\n",
       "    <tr>\n",
       "        <td style=\"padding-left: 1em; padding-right: 1em; text-align: center; vertical-align: top\">#1 Single (2006) {Cats<br>and Dogs (#1.4)} ...</td>\n",
       "    </tr>\n",
       "    <tr>\n",
       "        <td style=\"padding-left: 1em; padding-right: 1em; text-align: center; vertical-align: top\">#1 Single (2006)<br>{Finishing a Chapter ...</td>\n",
       "    </tr>\n",
       "    <tr>\n",
       "        <td style=\"padding-left: 1em; padding-right: 1em; text-align: center; vertical-align: top\">#1 Single (2006) {Is the<br>Grass Greener? (#1.1)} ...</td>\n",
       "    </tr>\n",
       "    <tr>\n",
       "        <td style=\"padding-left: 1em; padding-right: 1em; text-align: center; vertical-align: top\">#1 Single (2006) {Stay<br>(#1.8)} ...</td>\n",
       "    </tr>\n",
       "    <tr>\n",
       "        <td style=\"padding-left: 1em; padding-right: 1em; text-align: center; vertical-align: top\">#1 Single (2006) {The<br>Rules of Dating (#1.3)} ...</td>\n",
       "    </tr>\n",
       "    <tr>\n",
       "        <td style=\"padding-left: 1em; padding-right: 1em; text-align: center; vertical-align: top\">#1 Single (2006) {Timing<br>Is Everything (#1.7)} ...</td>\n",
       "    </tr>\n",
       "    <tr>\n",
       "        <td style=\"padding-left: 1em; padding-right: 1em; text-align: center; vertical-align: top\">#1 Single (2006) {Window<br>Shopping (#1.2)} ...</td>\n",
       "    </tr>\n",
       "    <tr>\n",
       "        <td style=\"padding-left: 1em; padding-right: 1em; text-align: center; vertical-align: top\">#1 Single (2006) {Wingman<br>(#1.6)} ...</td>\n",
       "    </tr>\n",
       "</table>\n",
       "[10 rows x 1 columns]<br/>\n",
       "</div>"
      ],
      "text/plain": [
       "Columns:\n",
       "\tname\tstr\n",
       "\n",
       "Rows: 10\n",
       "\n",
       "Data:\n",
       "+--------------------------------+\n",
       "|              name              |\n",
       "+--------------------------------+\n",
       "|         !Next? (1994)          |\n",
       "|        #1 Single (2006)        |\n",
       "| #1 Single (2006) {Cats and...  |\n",
       "| #1 Single (2006) {Finishin...  |\n",
       "| #1 Single (2006) {Is the G...  |\n",
       "| #1 Single (2006) {Stay (#1.8)} |\n",
       "| #1 Single (2006) {The Rule...  |\n",
       "| #1 Single (2006) {Timing I...  |\n",
       "| #1 Single (2006) {Window S...  |\n",
       "| #1 Single (2006) {Wingman ...  |\n",
       "+--------------------------------+\n",
       "[10 rows x 1 columns]"
      ]
     },
     "execution_count": 3,
     "metadata": {},
     "output_type": "execute_result"
    }
   ],
   "source": [
    "sf.head()"
   ]
  },
  {
   "cell_type": "code",
   "execution_count": 4,
   "metadata": {
    "collapsed": false
   },
   "outputs": [],
   "source": [
    "sf = sf.sort('name')"
   ]
  },
  {
   "cell_type": "code",
   "execution_count": 5,
   "metadata": {
    "collapsed": false
   },
   "outputs": [
    {
     "data": {
      "text/html": [
       "<pre>Finished parsing file /home/himi/FinalNames.csv</pre>"
      ],
      "text/plain": [
       "Finished parsing file /home/himi/FinalNames.csv"
      ]
     },
     "metadata": {},
     "output_type": "display_data"
    },
    {
     "data": {
      "text/html": [
       "<pre>Parsing completed. Parsed 100 lines in 0.203896 secs.</pre>"
      ],
      "text/plain": [
       "Parsing completed. Parsed 100 lines in 0.203896 secs."
      ]
     },
     "metadata": {},
     "output_type": "display_data"
    },
    {
     "data": {
      "text/html": [
       "<pre>Finished parsing file /home/himi/FinalNames.csv</pre>"
      ],
      "text/plain": [
       "Finished parsing file /home/himi/FinalNames.csv"
      ]
     },
     "metadata": {},
     "output_type": "display_data"
    },
    {
     "data": {
      "text/html": [
       "<pre>Parsing completed. Parsed 490362 lines in 0.24953 secs.</pre>"
      ],
      "text/plain": [
       "Parsing completed. Parsed 490362 lines in 0.24953 secs."
      ]
     },
     "metadata": {},
     "output_type": "display_data"
    },
    {
     "name": "stdout",
     "output_type": "stream",
     "text": [
      "------------------------------------------------------\n",
      "Inferred types from first line of file as \n",
      "column_type_hints=[str]\n",
      "If parsing fails due to incorrect types, you can correct\n",
      "the inferred type list above and pass it to read_csv in\n",
      "the column_type_hints argument\n",
      "------------------------------------------------------\n"
     ]
    }
   ],
   "source": [
    "tn = graphlab.SFrame.read_csv('FinalNames.csv')\n",
    "tn = tn.sort('name')"
   ]
  },
  {
   "cell_type": "code",
   "execution_count": 13,
   "metadata": {
    "collapsed": false
   },
   "outputs": [
    {
     "name": "stdout",
     "output_type": "stream",
     "text": [
      "+--------------------------------+\n",
      "|              name              |\n",
      "+--------------------------------+\n",
      "|           #1 (2005)            |\n",
      "| #1 Cheerleader Camp (2010) (V) |\n",
      "| #1 Fan: A Darkomentary (20...  |\n",
      "|    #1 Serial Killer (2013)     |\n",
      "|        #1 Single (2006)        |\n",
      "|           #30 (2013)           |\n",
      "|          #729 (2011)           |\n",
      "|  #73 Shaanthi Nivaasa (2007)   |\n",
      "|       #7DaysLater (2013)       |\n",
      "|   #8 Tire on the Ice (2009)    |\n",
      "+--------------------------------+\n",
      "[10 rows x 1 columns]\n",
      "\n",
      "+-----------------------------+\n",
      "|             name            |\n",
      "+-----------------------------+\n",
      "|        !Next? (1994)        |\n",
      "|           # (2012)          |\n",
      "|           # (2014)          |\n",
      "|     # My Ass (2015) (V)     |\n",
      "|          #1 (2005)          |\n",
      "|          #1 (2009)          |\n",
      "|          #1 (2010)          |\n",
      "|       #1 (2010/I) (V)       |\n",
      "|       #1 (2010/II) (V)      |\n",
      "| #1 Beauty Nail Salon (2014) |\n",
      "+-----------------------------+\n",
      "[10 rows x 1 columns]\n",
      "\n",
      "490362\n"
     ]
    },
    {
     "data": {
      "text/plain": [
       "\"i=0\\nl = []\\nfor el in tn['name']:\\n    while el<sf['name'][i]:\\n        i += 1\\n        if i==len(sf):\\n            break;\\n    if i==len(sf):\\n        break\\n    if el<sf['name'][i]:\\n        i += 1\\n    elif el==sf['name'][i]:\\n        print el\\n        i+=1\""
      ]
     },
     "execution_count": 13,
     "metadata": {},
     "output_type": "execute_result"
    }
   ],
   "source": [
    "print tn.head()\n",
    "print sf.head()\n",
    "l1 = []\n",
    "l2 = []\n",
    "for el in tn['name']:\n",
    "    l1.append(el)\n",
    "for el in sf['name']:\n",
    "    l2.append(el)\n",
    "print len(l1)\n",
    "    \n",
    "\"\"\"i=0\n",
    "l = []\n",
    "for el in tn['name']:\n",
    "    while el<sf['name'][i]:\n",
    "        i += 1\n",
    "        if i==len(sf):\n",
    "            break;\n",
    "    if i==len(sf):\n",
    "        break\n",
    "    if el<sf['name'][i]:\n",
    "        i += 1\n",
    "    elif el==sf['name'][i]:\n",
    "        print el\n",
    "        i+=1\"\"\""
   ]
  },
  {
   "cell_type": "code",
   "execution_count": 9,
   "metadata": {
    "collapsed": true
   },
   "outputs": [],
   "source": [
    "from bisect import bisect_left\n",
    "\n",
    "def binary_search(a, x, lo=0, hi=None):   # can't use a to specify default for hi\n",
    "    hi = hi if hi is not None else len(a) # hi defaults to len(a)   \n",
    "    pos = bisect_left(a,x,lo,hi)          # find insertion position\n",
    "    return (pos if pos != hi and a[pos] == x else -1) # don't walk off the end"
   ]
  },
  {
   "cell_type": "code",
   "execution_count": 14,
   "metadata": {
    "collapsed": true
   },
   "outputs": [],
   "source": [
    "ans = []\n",
    "for el in l1:\n",
    "    ix = binary_search(l2,el)\n",
    "    if ix==-1:\n",
    "        continue\n",
    "    else:\n",
    "        ans.append(el)"
   ]
  },
  {
   "cell_type": "code",
   "execution_count": 15,
   "metadata": {
    "collapsed": true
   },
   "outputs": [],
   "source": [
    "sfand = graphlab.SFrame(ans)"
   ]
  },
  {
   "cell_type": "code",
   "execution_count": 16,
   "metadata": {
    "collapsed": false
   },
   "outputs": [
    {
     "data": {
      "text/html": [
       "<div style=\"max-height:1000px;max-width:1500px;overflow:auto;\"><table frame=\"box\" rules=\"cols\">\n",
       "    <tr>\n",
       "        <th style=\"padding-left: 1em; padding-right: 1em; text-align: center\">X1</th>\n",
       "    </tr>\n",
       "    <tr>\n",
       "        <td style=\"padding-left: 1em; padding-right: 1em; text-align: center; vertical-align: top\">#1 (2005)</td>\n",
       "    </tr>\n",
       "    <tr>\n",
       "        <td style=\"padding-left: 1em; padding-right: 1em; text-align: center; vertical-align: top\">#1 Cheerleader Camp<br>(2010) (V) ...</td>\n",
       "    </tr>\n",
       "    <tr>\n",
       "        <td style=\"padding-left: 1em; padding-right: 1em; text-align: center; vertical-align: top\">#1 Fan: A Darkomentary<br>(2005) (V) ...</td>\n",
       "    </tr>\n",
       "    <tr>\n",
       "        <td style=\"padding-left: 1em; padding-right: 1em; text-align: center; vertical-align: top\">#1 Serial Killer (2013)</td>\n",
       "    </tr>\n",
       "    <tr>\n",
       "        <td style=\"padding-left: 1em; padding-right: 1em; text-align: center; vertical-align: top\">#1 Single (2006)</td>\n",
       "    </tr>\n",
       "    <tr>\n",
       "        <td style=\"padding-left: 1em; padding-right: 1em; text-align: center; vertical-align: top\">#30 (2013)</td>\n",
       "    </tr>\n",
       "    <tr>\n",
       "        <td style=\"padding-left: 1em; padding-right: 1em; text-align: center; vertical-align: top\">#729 (2011)</td>\n",
       "    </tr>\n",
       "    <tr>\n",
       "        <td style=\"padding-left: 1em; padding-right: 1em; text-align: center; vertical-align: top\">#7DaysLater (2013)</td>\n",
       "    </tr>\n",
       "    <tr>\n",
       "        <td style=\"padding-left: 1em; padding-right: 1em; text-align: center; vertical-align: top\">#8 Tire on the Ice (2009)</td>\n",
       "    </tr>\n",
       "    <tr>\n",
       "        <td style=\"padding-left: 1em; padding-right: 1em; text-align: center; vertical-align: top\">#99 (2015)</td>\n",
       "    </tr>\n",
       "</table>\n",
       "[10 rows x 1 columns]<br/>\n",
       "</div>"
      ],
      "text/plain": [
       "Columns:\n",
       "\tX1\tstr\n",
       "\n",
       "Rows: 10\n",
       "\n",
       "Data:\n",
       "+--------------------------------+\n",
       "|               X1               |\n",
       "+--------------------------------+\n",
       "|           #1 (2005)            |\n",
       "| #1 Cheerleader Camp (2010) (V) |\n",
       "| #1 Fan: A Darkomentary (20...  |\n",
       "|    #1 Serial Killer (2013)     |\n",
       "|        #1 Single (2006)        |\n",
       "|           #30 (2013)           |\n",
       "|          #729 (2011)           |\n",
       "|       #7DaysLater (2013)       |\n",
       "|   #8 Tire on the Ice (2009)    |\n",
       "|           #99 (2015)           |\n",
       "+--------------------------------+\n",
       "[10 rows x 1 columns]"
      ]
     },
     "execution_count": 16,
     "metadata": {},
     "output_type": "execute_result"
    }
   ],
   "source": [
    "sfand.head()"
   ]
  },
  {
   "cell_type": "code",
   "execution_count": 17,
   "metadata": {
    "collapsed": false
   },
   "outputs": [
    {
     "data": {
      "text/plain": [
       "437240"
      ]
     },
     "execution_count": 17,
     "metadata": {},
     "output_type": "execute_result"
    }
   ],
   "source": [
    "len(sfand)"
   ]
  },
  {
   "cell_type": "code",
   "execution_count": null,
   "metadata": {
    "collapsed": true
   },
   "outputs": [],
   "source": [
    "sfand.save('')"
   ]
  }
 ],
 "metadata": {
  "kernelspec": {
   "display_name": "Python 2",
   "language": "python",
   "name": "python2"
  },
  "language_info": {
   "codemirror_mode": {
    "name": "ipython",
    "version": 2
   },
   "file_extension": ".py",
   "mimetype": "text/x-python",
   "name": "python",
   "nbconvert_exporter": "python",
   "pygments_lexer": "ipython2",
   "version": "2.7.11"
  }
 },
 "nbformat": 4,
 "nbformat_minor": 0
}
